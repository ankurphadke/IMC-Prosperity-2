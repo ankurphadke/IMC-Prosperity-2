{
 "cells": [
  {
   "cell_type": "code",
   "execution_count": 3,
   "metadata": {},
   "outputs": [],
   "source": [
    "import numpy as np"
   ]
  },
  {
   "cell_type": "code",
   "execution_count": 4,
   "metadata": {},
   "outputs": [],
   "source": [
    "# each tile has a base treasure of 7500\n",
    "\n",
    "# prop = (expeditions that selected tile x / total number of selected expeditions) * 100\n",
    "# treasure = (base_treasure * multiplier) / (hunters + prop)\n",
    "# reward = treasure - expedition_cost\n",
    "\n",
    "# expedition cost (max 3): 0, 25k, 75k"
   ]
  },
  {
   "cell_type": "code",
   "execution_count": 26,
   "metadata": {},
   "outputs": [],
   "source": [
    "multiplier = np.array([[24, 70, 41, 21, 60],\n",
    "                       [47, 82, 87, 80, 35],\n",
    "                       [73, 89, 100, 90, 17],\n",
    "                       [77, 83, 85, 79, 55],\n",
    "                       [12, 27, 52, 15, 30]])\n",
    "\n",
    "hunters = np.array([[2, 4, 3, 2, 4],\n",
    "                    [3, 5, 5, 5, 3],\n",
    "                    [4, 5, 8, 7, 2],\n",
    "                    [5, 5, 5, 5, 4],\n",
    "                    [2, 3, 4, 2, 3]])\n",
    "\n",
    "def treasure(prop):\n",
    "    t = (7500 * multiplier) / (hunters + prop)\n",
    "    with np.printoptions(precision=4, suppress=True, formatter={'float': '{:0.1f}'.format}, linewidth=200):\n",
    "        print(t)\n",
    "        print('\\n')\n"
   ]
  },
  {
   "cell_type": "code",
   "execution_count": 34,
   "metadata": {},
   "outputs": [
    {
     "name": "stdout",
     "output_type": "stream",
     "text": [
      "[[90000.0 131250.0 102500.0 78750.0 112500.0]\n",
      " [117500.0 123000.0 130500.0 120000.0 87500.0]\n",
      " [136875.0 133500.0 93750.0 96428.6 63750.0]\n",
      " [115500.0 124500.0 127500.0 118500.0 103125.0]\n",
      " [45000.0 67500.0 97500.0 56250.0 75000.0]]\n",
      "\n",
      "\n",
      "[[25714.3 58333.3 38437.5 22500.0 50000.0]\n",
      " [44062.5 61500.0 65250.0 60000.0 32812.5]\n",
      " [60833.3 66750.0 57692.3 56250.0 18214.3]\n",
      " [57750.0 62250.0 63750.0 59250.0 45833.3]\n",
      " [12857.1 25312.5 43333.3 16071.4 28125.0]]\n",
      "\n",
      "\n",
      "[[15000.0 37500.0 23653.8 13125.0 32142.9]\n",
      " [27115.4 41000.0 43500.0 40000.0 20192.3]\n",
      " [39107.1 44500.0 41666.7 39705.9 10625.0]\n",
      " [38500.0 41500.0 42500.0 39500.0 29464.3]\n",
      " [7500.0 15576.9 27857.1 9375.0 17307.7]]\n",
      "\n",
      "\n",
      "[[10588.2 27631.6 17083.3 9264.7 23684.2]\n",
      " [19583.3 30750.0 32625.0 30000.0 14583.3]\n",
      " [28815.8 33375.0 32608.7 30681.8 7500.0]\n",
      " [28875.0 31125.0 31875.0 29625.0 21710.5]\n",
      " [5294.1 11250.0 20526.3 6617.6 12500.0]]\n",
      "\n",
      "\n",
      "[[8181.8 21875.0 13369.6 7159.1 18750.0]\n",
      " [15326.1 24600.0 26100.0 24000.0 11413.0]\n",
      " [22812.5 26700.0 26785.7 25000.0 5795.5]\n",
      " [23100.0 24900.0 25500.0 23700.0 17187.5]\n",
      " [4090.9 8804.3 16250.0 5113.6 9782.6]]\n",
      "\n",
      "\n",
      "[[5625.0 15441.2 9318.2 4921.9 13235.3]\n",
      " [10681.8 17571.4 18642.9 17142.9 7954.5]\n",
      " [16102.9 19071.4 19736.8 18243.2 3984.4]\n",
      " [16500.0 17785.7 18214.3 16928.6 12132.4]\n",
      " [2812.5 6136.4 11470.6 3515.6 6818.2]]\n",
      "\n",
      "\n"
     ]
    }
   ],
   "source": [
    "treasure(0)\n",
    "treasure(5)\n",
    "treasure(10)\n",
    "treasure(15)\n",
    "treasure(20)\n",
    "treasure(30)"
   ]
  },
  {
   "cell_type": "markdown",
   "metadata": {},
   "source": [
    "Top 5 treasure spots (based on prop=0):\n",
    "- C1, C2, A2, B3, D3\n",
    "\n",
    "High level thoughts:\n",
    "- How much does prop affect reward?\n",
    "    - 10% prop reduces reward by a factor of about 3.5 based on hunter mean being 4\n",
    "- How much will prop be at the 'hotspots'?\n",
    "- How many participants will consider these factors and apply the opposite strategy?\n",
    "    - Based on the leaderboard so far, most groups seem to be making rational decisions.\n",
    "- How many expeditions to make, and how many will others make?\n",
    "- 15 options: if participants make 2 expeditions on average and pick randomly, expected prop for each expedition is ~13.3%? How will this vary based on expected treasure?\n",
    "- It is difficult to justify making 3 expeditions.\n",
    "\n"
   ]
  },
  {
   "cell_type": "markdown",
   "metadata": {},
   "source": [
    "### Submission:\n",
    "(position labels on the provided map are different)\n",
    "\n",
    "- B2 (H26)\n",
    "- C4 (J29)"
   ]
  },
  {
   "cell_type": "markdown",
   "metadata": {},
   "source": []
  }
 ],
 "metadata": {
  "kernelspec": {
   "display_name": "Python 3",
   "language": "python",
   "name": "python3"
  },
  "language_info": {
   "codemirror_mode": {
    "name": "ipython",
    "version": 3
   },
   "file_extension": ".py",
   "mimetype": "text/x-python",
   "name": "python",
   "nbconvert_exporter": "python",
   "pygments_lexer": "ipython3",
   "version": "3.11.0"
  }
 },
 "nbformat": 4,
 "nbformat_minor": 2
}
