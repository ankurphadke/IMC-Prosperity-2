{
 "cells": [
  {
   "cell_type": "markdown",
   "metadata": {},
   "source": [
    "Copy reserve price distribution from round 1.\n",
    "\n",
    "Cases:\n",
    "- if reserve price < b1:\n",
    "    - profit = 1000 - b1 (same as round 1)\n",
    "- elif reserve price < b2:\n",
    "    - our b2 is higher than the avg of all b2:\n",
    "        - profit = 1000 - b2 (same as round 1)\n",
    "    - else:\n",
    "        - profit = p(1000 - b2) where p = (1000 – average bid) / (1000 – your bid)\n",
    "\n",
    "Note: b2 being equal to avg_b2 results in the same return regardless of computation method"
   ]
  },
  {
   "cell_type": "code",
   "execution_count": 1,
   "metadata": {},
   "outputs": [],
   "source": [
    "import numpy as np"
   ]
  },
  {
   "cell_type": "code",
   "execution_count": 2,
   "metadata": {},
   "outputs": [],
   "source": [
    "# Define the range and probabilities\n",
    "min_value = 900\n",
    "max_value = 1000\n",
    "num_values = max_value - min_value + 1\n",
    "probabilities = np.linspace(0, 1, num_values)\n",
    "\n",
    "# Normalize probabilities to sum to 1\n",
    "probabilities /= probabilities.sum()"
   ]
  },
  {
   "cell_type": "markdown",
   "metadata": {},
   "source": [
    "Our submission in round 1:\n",
    "- b1: 952\n",
    "- b2: 978\n",
    "\n",
    "Based on the seashell profit made, this seems to be close to the optimal solution. We should expect most competitors to be aware of this and take this into consideration for round 4."
   ]
  },
  {
   "cell_type": "markdown",
   "metadata": {},
   "source": [
    "Assuming our b2 is always higher than the avg of all b2s, this should still be the optimal solution. However, rational competitors will be adjusting their b2 based on this information. The constraints in round 4 shouldn't be significantly affecting b1s."
   ]
  },
  {
   "cell_type": "code",
   "execution_count": 6,
   "metadata": {},
   "outputs": [],
   "source": [
    "### Simulation\n",
    "\n",
    "def simulate(no_samples, no_simulations, avg_b2):\n",
    "\n",
    "    r1, r2, = 0, 0\n",
    "\n",
    "    for x in range(no_simulations):\n",
    "\n",
    "        # Generate random samples\n",
    "        samples = np.random.choice(np.arange(min_value, max_value + 1), size=no_samples, p=probabilities)\n",
    "\n",
    "        max_profit = 0\n",
    "        best_bid = [0,0]\n",
    "\n",
    "        # simulate all possible bids\n",
    "\n",
    "        for b1 in range(900, 1001):\n",
    "            for b2 in range(b1, 1001):\n",
    "\n",
    "                profit = 0\n",
    "\n",
    "                # iterate through sample birds\n",
    "                for reserve in samples:\n",
    "                    # compare reserve price to bids\n",
    "                    if reserve < b1:\n",
    "                        profit += 1000-b1\n",
    "                    elif reserve < b2:\n",
    "                        # compare b2 and avg_b2\n",
    "                        if b2 > avg_b2:\n",
    "                            profit += 1000-b2\n",
    "                        else:\n",
    "                            profit += ((1000-avg_b2) / (1000-b2)) * (1000-b2)\n",
    "\n",
    "                if profit > max_profit:\n",
    "                    max_profit = profit\n",
    "                    best_bid = [b1, b2]\n",
    "        \n",
    "        r1+=best_bid[0]\n",
    "        r2+=best_bid[1]\n",
    "\n",
    "    print(\"Avg optimal bids: \", r1/no_simulations, r2/no_simulations)"
   ]
  },
  {
   "cell_type": "code",
   "execution_count": 7,
   "metadata": {},
   "outputs": [
    {
     "name": "stdout",
     "output_type": "stream",
     "text": [
      "Avg optimal bids:  952.25 978.16\n",
      "Avg optimal bids:  952.01 978.16\n",
      "Avg optimal bids:  952.37 978.34\n",
      "Avg optimal bids:  953.23 980.49\n",
      "Avg optimal bids:  959.98 990.0\n"
     ]
    }
   ],
   "source": [
    "simulate(1000, 100, 950)\n",
    "simulate(1000, 100, 960)\n",
    "simulate(1000, 100, 970)\n",
    "simulate(1000, 100, 980)\n",
    "simulate(1000, 100, 990)"
   ]
  },
  {
   "cell_type": "code",
   "execution_count": 10,
   "metadata": {},
   "outputs": [
    {
     "name": "stdout",
     "output_type": "stream",
     "text": [
      "Avg optimal bids:  952.93 979.3\n",
      "Avg optimal bids:  953.42 980.59\n",
      "Avg optimal bids:  954.31 982.15\n",
      "Avg optimal bids:  955.91 984.06\n",
      "Avg optimal bids:  957.83 986.01\n",
      "Avg optimal bids:  964.99 998.0\n"
     ]
    }
   ],
   "source": [
    "simulate(1000, 100, 978)\n",
    "simulate(1000, 100, 980)\n",
    "simulate(1000, 100, 982)\n",
    "simulate(1000, 100, 984)\n",
    "simulate(1000, 100, 986)\n",
    "simulate(1000, 100, 998)"
   ]
  },
  {
   "cell_type": "code",
   "execution_count": 11,
   "metadata": {},
   "outputs": [
    {
     "name": "stdout",
     "output_type": "stream",
     "text": [
      "Avg optimal bids:  952.635 979.29\n",
      "Avg optimal bids:  953.402 980.545\n",
      "Avg optimal bids:  954.521 982.185\n",
      "Avg optimal bids:  955.651 984.036\n",
      "Avg optimal bids:  957.201 986.003\n",
      "Avg optimal bids:  965.115 998.0\n"
     ]
    }
   ],
   "source": [
    "simulate(1000, 1000, 978)\n",
    "simulate(1000, 1000, 980)\n",
    "simulate(1000, 1000, 982)\n",
    "simulate(1000, 1000, 984)\n",
    "simulate(1000, 1000, 986)\n",
    "simulate(1000, 1000, 998)"
   ]
  },
  {
   "cell_type": "markdown",
   "metadata": {},
   "source": [
    "It seems like the optimal b1 is also higher if avg_b2>b2. This is because we compute lower than expected profits (scaling factor: p) when reserve price >b1 but <b2 and b2<avg_b2. It becomes optimal to increase b1 to trade on higher reserve prices without losing out because of the scaling factor. Can verify with a closed form solution?\n",
    "\n",
    "Soln ( only integer bids accepted):\n",
    "- b1: 952 (+(avg_b2-978)/2 if avg_b2 > 978)\n",
    "- b2: 978 (+(avg_b2-978) if avg_b2 > 978)"
   ]
  },
  {
   "cell_type": "markdown",
   "metadata": {},
   "source": [
    "Our submission depends on what we expect avg_b2 to be. I'm assuming that optimal b2 from round 1 + (1|2|3) will be popular submissions. Let's compute how profit gets penalized based on how far off our b2 is from avg_b2."
   ]
  },
  {
   "cell_type": "code",
   "execution_count": 20,
   "metadata": {},
   "outputs": [],
   "source": [
    "### Simulation\n",
    "\n",
    "def profit(no_samples, no_simulations, b1, b2, avg_b2):\n",
    "\n",
    "    profit_sum = 0\n",
    "\n",
    "    for x in range(no_simulations):\n",
    "\n",
    "        # Generate random samples\n",
    "        samples = np.random.choice(np.arange(min_value, max_value + 1), size=no_samples, p=probabilities)\n",
    "\n",
    "        # simulate all possible bids\n",
    "\n",
    "        for reserve in samples:\n",
    "            if reserve < b1:\n",
    "                profit_sum += 1000-b1\n",
    "            elif reserve < b2:\n",
    "                if b2 > avg_b2:\n",
    "                    profit_sum += 1000-b2\n",
    "                else:\n",
    "                    profit_sum += ((1000-avg_b2) / (1000-b2)) * (1000-b2)\n",
    "\n",
    "    print(f\"b1: {b1}, b2: {b2}, avg_b2: {avg_b2}, Avg profit: {profit_sum/no_simulations}\")"
   ]
  },
  {
   "cell_type": "code",
   "execution_count": 29,
   "metadata": {},
   "outputs": [
    {
     "name": "stdout",
     "output_type": "stream",
     "text": [
      "b1: 952, b2: 978, avg_b2: 978, Avg profit: 19906.085\n",
      "b1: 953, b2: 979, avg_b2: 978, Avg profit: 19910.8992\n",
      "b1: 954, b2: 980, avg_b2: 978, Avg profit: 19883.0436\n",
      "b1: 954, b2: 981, avg_b2: 978, Avg profit: 19841.0613\n",
      "b1: 952, b2: 979, avg_b2: 978, Avg profit: 19895.1933\n",
      "b1: 952, b2: 980, avg_b2: 978, Avg profit: 19878.0832\n",
      "b1: 954, b2: 981, avg_b2: 979, Avg profit: 19835.957\n",
      "b1: 954, b2: 982, avg_b2: 979, Avg profit: 19778.4428\n",
      "b1: 952, b2: 980, avg_b2: 980, Avg profit: 19860.8168\n",
      "b1: 953, b2: 980, avg_b2: 980, Avg profit: 19882.7286\n",
      "b1: 952, b2: 981, avg_b2: 980, Avg profit: 19807.3751\n",
      "b1: 953, b2: 981, avg_b2: 980, Avg profit: 19824.9539\n",
      "b1: 954, b2: 981, avg_b2: 980, Avg profit: 19836.2891\n",
      "b1: 953, b2: 982, avg_b2: 980, Avg profit: 19760.3801\n",
      "b1: 954, b2: 982, avg_b2: 980, Avg profit: 19768.9708\n",
      "b1: 954, b2: 983, avg_b2: 980, Avg profit: 19671.7136\n",
      "b1: 954, b2: 981, avg_b2: 981, Avg profit: 19835.2828\n",
      "b1: 952, b2: 980, avg_b2: 982, Avg profit: 19133.9226\n",
      "b1: 954, b2: 981, avg_b2: 982, Avg profit: 19489.3842\n",
      "b1: 952, b2: 982, avg_b2: 982, Avg profit: 19709.4954\n",
      "b1: 954, b2: 982, avg_b2: 982, Avg profit: 19769.3874\n",
      "b1: 952, b2: 983, avg_b2: 982, Avg profit: 19593.3263\n",
      "b1: 953, b2: 983, avg_b2: 982, Avg profit: 19636.9071\n",
      "b1: 952, b2: 984, avg_b2: 982, Avg profit: 19452.7728\n",
      "b1: 953, b2: 984, avg_b2: 982, Avg profit: 19505.2761\n",
      "b1: 954, b2: 984, avg_b2: 982, Avg profit: 19541.8132\n",
      "b1: 955, b2: 984, avg_b2: 982, Avg profit: 19567.6501\n",
      "b1: 955, b2: 985, avg_b2: 982, Avg profit: 19432.1175\n"
     ]
    }
   ],
   "source": [
    "profit(1000, 10000, 952, 978, 978)\n",
    "profit(1000, 10000, 953, 979, 978)\n",
    "profit(1000, 10000, 954, 980, 978)\n",
    "profit(1000, 10000, 954, 981, 978)\n",
    "profit(1000, 10000, 952, 979, 978)\n",
    "profit(1000, 10000, 952, 980, 978)\n",
    "profit(1000, 10000, 954, 981, 979)\n",
    "profit(1000, 10000, 954, 982, 979)\n",
    "profit(1000, 10000, 952, 980, 980)\n",
    "profit(1000, 10000, 953, 980, 980)\n",
    "profit(1000, 10000, 952, 981, 980)\n",
    "profit(1000, 10000, 953, 981, 980)\n",
    "profit(1000, 10000, 954, 981, 980)\n",
    "profit(1000, 10000, 953, 982, 980)\n",
    "profit(1000, 10000, 954, 982, 980)\n",
    "profit(1000, 10000, 954, 983, 980)\n",
    "profit(1000, 10000, 954, 981, 981)\n",
    "profit(1000, 10000, 952, 980, 982)\n",
    "profit(1000, 10000, 954, 981, 982)\n",
    "profit(1000, 10000, 952, 982, 982)\n",
    "profit(1000, 10000, 954, 982, 982)\n",
    "profit(1000, 10000, 952, 983, 982)\n",
    "profit(1000, 10000, 953, 983, 982)\n",
    "profit(1000, 10000, 952, 984, 982)\n",
    "profit(1000, 10000, 953, 984, 982)\n",
    "profit(1000, 10000, 954, 984, 982)\n",
    "profit(1000, 10000, 955, 984, 982)\n",
    "profit(1000, 10000, 955, 985, 982)"
   ]
  },
  {
   "cell_type": "markdown",
   "metadata": {},
   "source": [
    "### Submission:\n",
    "- Lowest Bid: 954\n",
    "- Highest Bid: 981\n",
    "\n",
    "This seems like the best solution if avg_bid is <= 981. If avg_bid is 982, [954,982] would be a better solution being 1.4% more profitable."
   ]
  }
 ],
 "metadata": {
  "kernelspec": {
   "display_name": "Python 3",
   "language": "python",
   "name": "python3"
  },
  "language_info": {
   "codemirror_mode": {
    "name": "ipython",
    "version": 3
   },
   "file_extension": ".py",
   "mimetype": "text/x-python",
   "name": "python",
   "nbconvert_exporter": "python",
   "pygments_lexer": "ipython3",
   "version": "3.11.0"
  }
 },
 "nbformat": 4,
 "nbformat_minor": 2
}
