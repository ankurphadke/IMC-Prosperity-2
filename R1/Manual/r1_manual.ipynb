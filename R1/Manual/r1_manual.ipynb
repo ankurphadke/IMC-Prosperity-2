{
 "cells": [
  {
   "cell_type": "code",
   "execution_count": 3,
   "metadata": {},
   "outputs": [],
   "source": [
    "#simulation\n",
    "\n",
    "import numpy as np"
   ]
  },
  {
   "cell_type": "code",
   "execution_count": 33,
   "metadata": {},
   "outputs": [],
   "source": [
    "# Define the range and probabilities\n",
    "min_value = 900\n",
    "max_value = 1000\n",
    "num_values = max_value - min_value + 1\n",
    "probabilities = np.linspace(0, 1, num_values)\n",
    "\n",
    "# Normalize probabilities to sum to 1\n",
    "probabilities /= probabilities.sum()"
   ]
  },
  {
   "cell_type": "code",
   "execution_count": 38,
   "metadata": {},
   "outputs": [
    {
     "name": "stdout",
     "output_type": "stream",
     "text": [
      "198424 [951, 977]\n",
      "197574 [955, 979]\n",
      "195861 [953, 979]\n",
      "197796 [952, 978]\n",
      "200496 [954, 980]\n",
      "199330 [952, 978]\n",
      "196125 [955, 979]\n",
      "199446 [952, 979]\n",
      "198215 [955, 980]\n",
      "199931 [953, 979]\n"
     ]
    }
   ],
   "source": [
    "for x in range(10):\n",
    "\n",
    "    # Generate random samples\n",
    "    samples = np.random.choice(np.arange(min_value, max_value + 1), size=10000, p=probabilities)\n",
    "\n",
    "    max_profit = 0\n",
    "    best_bid = [0,0]\n",
    "\n",
    "    # simulate all possible bids\n",
    "\n",
    "    for b1 in range(900, 1001):\n",
    "        for b2 in range(b1, 1001):\n",
    "\n",
    "            profit = 0\n",
    "\n",
    "            # iterate through sample birds\n",
    "            for reserve in samples:\n",
    "                if reserve < b1:\n",
    "                    profit += 1000-b1\n",
    "                elif reserve < b2:\n",
    "                    profit += 1000-b2\n",
    "\n",
    "            if profit > max_profit:\n",
    "                max_profit = profit\n",
    "                best_bid = [b1, b2]\n",
    "\n",
    "    print(max_profit, best_bid)\n",
    "\n"
   ]
  },
  {
   "cell_type": "markdown",
   "metadata": {},
   "source": [
    "953.2, 978.9"
   ]
  },
  {
   "cell_type": "code",
   "execution_count": 39,
   "metadata": {},
   "outputs": [
    {
     "name": "stdout",
     "output_type": "stream",
     "text": [
      "200286 [954, 979]\n",
      "201404 [952, 978]\n",
      "199560 [950, 976]\n",
      "199283 [951, 979]\n",
      "202322 [950, 977]\n",
      "203060 [950, 977]\n",
      "198148 [950, 978]\n",
      "199972 [951, 976]\n",
      "201453 [951, 979]\n",
      "199172 [952, 978]\n"
     ]
    }
   ],
   "source": [
    "for x in range(10):\n",
    "\n",
    "    # Generate random samples\n",
    "    samples = np.random.choice(np.arange(min_value, max_value + 1), size=10000, p=probabilities)\n",
    "\n",
    "    max_profit = 0\n",
    "    best_bid = [0,0]\n",
    "\n",
    "    # simulate all possible bids\n",
    "\n",
    "    for b1 in range(900, 1001):\n",
    "        for b2 in range(b1, 1001):\n",
    "\n",
    "            profit = 0\n",
    "\n",
    "            # iterate through sample birds\n",
    "            for reserve in samples:\n",
    "                if reserve < b1:\n",
    "                    profit += 1000-b1\n",
    "                elif reserve < b2:\n",
    "                    profit += 1000-b2\n",
    "\n",
    "            if profit >= max_profit:\n",
    "                max_profit = profit\n",
    "                best_bid = [b1, b2]\n",
    "\n",
    "    print(max_profit, best_bid)\n",
    "\n"
   ]
  },
  {
   "cell_type": "markdown",
   "metadata": {},
   "source": [
    "951.1, 977.7"
   ]
  },
  {
   "cell_type": "code",
   "execution_count": 40,
   "metadata": {},
   "outputs": [
    {
     "name": "stdout",
     "output_type": "stream",
     "text": [
      "951.88 978.05\n"
     ]
    }
   ],
   "source": [
    "r1, r2, = 0, 0\n",
    "\n",
    "for x in range(100):\n",
    "\n",
    "    # Generate random samples\n",
    "    samples = np.random.choice(np.arange(min_value, max_value + 1), size=1000, p=probabilities)\n",
    "\n",
    "    max_profit = 0\n",
    "    best_bid = [0,0]\n",
    "\n",
    "    # simulate all possible bids\n",
    "\n",
    "    for b1 in range(900, 1001):\n",
    "        for b2 in range(b1, 1001):\n",
    "\n",
    "            profit = 0\n",
    "\n",
    "            # iterate through sample birds\n",
    "            for reserve in samples:\n",
    "                if reserve < b1:\n",
    "                    profit += 1000-b1\n",
    "                elif reserve < b2:\n",
    "                    profit += 1000-b2\n",
    "\n",
    "            if profit > max_profit:\n",
    "                max_profit = profit\n",
    "                best_bid = [b1, b2]\n",
    "    \n",
    "    r1+=best_bid[0]\n",
    "    r2+=best_bid[1]\n",
    "\n",
    "print(r1/100, r2/100)\n",
    "\n"
   ]
  },
  {
   "cell_type": "markdown",
   "metadata": {},
   "source": [
    "Submission:\n",
    "- Lowest Bid: 952\n",
    "- Highest Bid: 978"
   ]
  },
  {
   "cell_type": "code",
   "execution_count": 43,
   "metadata": {},
   "outputs": [
    {
     "name": "stdout",
     "output_type": "stream",
     "text": [
      "1989972 [952, 978]\n"
     ]
    }
   ],
   "source": [
    "# Generate random samples\n",
    "samples = np.random.choice(np.arange(min_value, max_value + 1), size=100000, p=probabilities)\n",
    "\n",
    "max_profit = 0\n",
    "best_bid = [0,0]\n",
    "\n",
    "# simulate all possible bids\n",
    "\n",
    "for b1 in range(900, 1001):\n",
    "    for b2 in range(b1, 1001):\n",
    "\n",
    "        profit = 0\n",
    "\n",
    "        # iterate through sample birds\n",
    "        for reserve in samples:\n",
    "            if reserve < b1:\n",
    "                profit += 1000-b1\n",
    "            elif reserve < b2:\n",
    "                profit += 1000-b2\n",
    "\n",
    "        if profit > max_profit:\n",
    "            max_profit = profit\n",
    "            best_bid = [b1, b2]\n",
    "\n",
    "print(max_profit, best_bid)\n",
    "\n"
   ]
  }
 ],
 "metadata": {
  "kernelspec": {
   "display_name": "Python 3",
   "language": "python",
   "name": "python3"
  },
  "language_info": {
   "codemirror_mode": {
    "name": "ipython",
    "version": 3
   },
   "file_extension": ".py",
   "mimetype": "text/x-python",
   "name": "python",
   "nbconvert_exporter": "python",
   "pygments_lexer": "ipython3",
   "version": "3.11.0"
  }
 },
 "nbformat": 4,
 "nbformat_minor": 2
}
